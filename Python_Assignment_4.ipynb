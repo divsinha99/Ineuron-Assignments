{
 "cells": [
  {
   "cell_type": "markdown",
   "id": "7811d48d",
   "metadata": {},
   "source": [
    "### 1.1 Write a Python Program(with class concepts) to find the area of the triangle using the below formula.\n",
    "area = (s*(s-a)*(s-b)*(s-c)) ** 0.5\n",
    "### Function to take the length of the sides of triangle from user should be defined in the parent class and function to calculate the area should be defined in subclass."
   ]
  },
  {
   "cell_type": "code",
   "execution_count": 23,
   "id": "f419efe5",
   "metadata": {},
   "outputs": [],
   "source": [
    "class Triangle_Dimensions: ## parent class\n",
    "  def __init__(self):\n",
    "    self.Length_A = input(\"Enter the Length of A : \")\n",
    "    self.Length_B = input(\"Enter the Length of B : \")\n",
    "    self.Length_C = input(\"Enter the Length of C : \")\n",
    "\n",
    "\n",
    "class Calculate_Area(Triangle_Dimensions): ## sub - class\n",
    "  def __init__(self, *args):\n",
    "    super().__init__(*args)\n",
    "    \n",
    "  def __str__(self):\n",
    "    a = int(self.Length_A)\n",
    "    b = int(self.Length_B)\n",
    "    c = int(self.Length_C)\n",
    "    s = (a+b+c)/2\n",
    "    return str((s*(s-a)*(s-b)*(s-c)) ** 0.5)"
   ]
  },
  {
   "cell_type": "code",
   "execution_count": 24,
   "id": "f7f9f19c",
   "metadata": {
    "scrolled": true
   },
   "outputs": [
    {
     "name": "stdout",
     "output_type": "stream",
     "text": [
      "Enter the Length of A : 2\n",
      "Enter the Length of B : 2\n",
      "Enter the Length of C : 2\n",
      "Area of Triangle is :  1.7320508075688772\n"
     ]
    }
   ],
   "source": [
    "print(\"Area of Triangle is : \", Calculate_Area())"
   ]
  },
  {
   "cell_type": "markdown",
   "id": "1f9c9131",
   "metadata": {},
   "source": [
    "### 1.2 Write a function filter_long_words() that takes a list of words and an integer n and returns the list of words that are longer than n."
   ]
  },
  {
   "cell_type": "code",
   "execution_count": 25,
   "id": "fe159554",
   "metadata": {},
   "outputs": [
    {
     "name": "stdout",
     "output_type": "stream",
     "text": [
      "This is the final filtered list :  ['aaa', 'bbaas', 'sdssa']\n"
     ]
    }
   ],
   "source": [
    "def filter_long_words(lst_words, n):\n",
    "    return list(filter(lambda x: (len(x) > n),lst_words))\n",
    "\n",
    "\n",
    "lst_words = ['aa','aaa','bbaas','a','sdssa']\n",
    "print(\"This is the final filtered list : \", filter_long_words(lst_words, 2))"
   ]
  },
  {
   "cell_type": "markdown",
   "id": "6605e249",
   "metadata": {},
   "source": [
    "### 2.1 Write a Python program using function concept that maps list of words into a list of integers representing the lengths of the corresponding words.\n",
    "*Hint*: If a list [ ab,cde,erty] is passed on to the python function output should come as [2,3,4] Here 2,3 and 4 are the lengths of the words in the list."
   ]
  },
  {
   "cell_type": "code",
   "execution_count": 26,
   "id": "03515786",
   "metadata": {
    "scrolled": true
   },
   "outputs": [
    {
     "name": "stdout",
     "output_type": "stream",
     "text": [
      "This is the list of words converted to list of integer :  [2, 3, 5, 1, 5]\n"
     ]
    }
   ],
   "source": [
    "def lst_words_to_integer(lst_words):\n",
    "    return list(map(lambda x: (len(x)), lst_words))\n",
    "\n",
    "lst_words = ['aa','aaa','bbaas','a','sdssa']\n",
    "print(\"This is the list of words converted to list of integer : \", lst_words_to_integer(lst_words))"
   ]
  },
  {
   "cell_type": "markdown",
   "id": "580a0f36",
   "metadata": {},
   "source": [
    "### 2.2 Write a Python function which takes a character (i.e. a string of length 1) and returns True if it is a vowel, False otherwise."
   ]
  },
  {
   "cell_type": "code",
   "execution_count": 34,
   "id": "d520d5d0",
   "metadata": {},
   "outputs": [
    {
     "name": "stdout",
     "output_type": "stream",
     "text": [
      "Please enter a character : o\n",
      "Successfully completed!!!\n",
      "Is Character o present ?  True\n"
     ]
    }
   ],
   "source": [
    "def vowel_detector(charactr):\n",
    "    try:\n",
    "        errormsg = \"\"\n",
    "        vowels = ['a','e','i','o','u']\n",
    "        if len(charactr) > 1 or charactr.isalpha() == False:\n",
    "            raise Exception(\"Please enter valid character.\")\n",
    "        else:\n",
    "            return True if charactr in vowels else False\n",
    "        \n",
    "    except Exception as error:\n",
    "        errormsg = repr(error)\n",
    "    finally:\n",
    "        if len(errormsg) > 0:\n",
    "            print(\"Error encountered : \",errormsg)\n",
    "        else:\n",
    "            print(\"Successfully completed!!!\")\n",
    "\n",
    "charactr = str(input(\"Please enter a character : \"))\n",
    "print(\"Is Character \"+ charactr+ \" present ? \",vowel_detector(charactr))"
   ]
  },
  {
   "cell_type": "code",
   "execution_count": null,
   "id": "57591eb0",
   "metadata": {},
   "outputs": [],
   "source": []
  }
 ],
 "metadata": {
  "kernelspec": {
   "display_name": "Python 3",
   "language": "python",
   "name": "python3"
  },
  "language_info": {
   "codemirror_mode": {
    "name": "ipython",
    "version": 3
   },
   "file_extension": ".py",
   "mimetype": "text/x-python",
   "name": "python",
   "nbconvert_exporter": "python",
   "pygments_lexer": "ipython3",
   "version": "3.8.8"
  }
 },
 "nbformat": 4,
 "nbformat_minor": 5
}
