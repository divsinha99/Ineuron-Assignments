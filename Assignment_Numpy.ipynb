{
 "cells": [
  {
   "cell_type": "markdown",
   "metadata": {},
   "source": [
    "### Write a function so that the columns of the output matrix are powers of the input vector. The order of the powers is determined by the increasing boolean argument. Specifically, when increasing is False, the i-th output column is the input vector raised element-wise to the power of N - i - 1. HINT: Such a matrix with a geometric progression in each row is named for Alexandre\u0002Theophile Vandermonde."
   ]
  },
  {
   "cell_type": "code",
   "execution_count": 1,
   "metadata": {},
   "outputs": [],
   "source": [
    "import numpy as np"
   ]
  },
  {
   "cell_type": "code",
   "execution_count": 4,
   "metadata": {},
   "outputs": [
    {
     "data": {
      "text/plain": [
       "array([1, 2, 3, 5])"
      ]
     },
     "execution_count": 4,
     "metadata": {},
     "output_type": "execute_result"
    }
   ],
   "source": [
    "inp_vector = np.array([1, 2, 3, 5])\n",
    "inp_vector"
   ]
  },
  {
   "cell_type": "code",
   "execution_count": 55,
   "metadata": {},
   "outputs": [],
   "source": [
    "def Vandermonde_fn(inp_vector, N, increasing = False):\n",
    "    if increasing:\n",
    "        return np.column_stack([inp_vector**(N - i - 1) for i in reversed(range(N))])\n",
    "    else:\n",
    "        return np.column_stack([inp_vector**(N - i - 1) for i in range(N)])\n"
   ]
  },
  {
   "cell_type": "code",
   "execution_count": 60,
   "metadata": {},
   "outputs": [
    {
     "name": "stdout",
     "output_type": "stream",
     "text": [
      "When increasing is true :\n"
     ]
    },
    {
     "data": {
      "text/plain": [
       "array([[ 1,  1,  1],\n",
       "       [ 1,  2,  4],\n",
       "       [ 1,  3,  9],\n",
       "       [ 1,  5, 25]], dtype=int32)"
      ]
     },
     "execution_count": 60,
     "metadata": {},
     "output_type": "execute_result"
    }
   ],
   "source": [
    "print(\"When increasing is true :\")\n",
    "Vandermonde_fn(inp_vector, 3, True)"
   ]
  },
  {
   "cell_type": "code",
   "execution_count": 61,
   "metadata": {},
   "outputs": [
    {
     "name": "stdout",
     "output_type": "stream",
     "text": [
      "When increasing is False :\n"
     ]
    },
    {
     "data": {
      "text/plain": [
       "array([[ 1,  1,  1],\n",
       "       [ 4,  2,  1],\n",
       "       [ 9,  3,  1],\n",
       "       [25,  5,  1]], dtype=int32)"
      ]
     },
     "execution_count": 61,
     "metadata": {},
     "output_type": "execute_result"
    }
   ],
   "source": [
    "print(\"When increasing is False :\")\n",
    "Vandermonde_fn(inp_vector, 3, False)"
   ]
  },
  {
   "cell_type": "markdown",
   "metadata": {},
   "source": [
    "Problem Statement 2:\r\n",
    "Given a sequence of n values x1, x2, ..., xn and a window size k>0, the k-th moving average of \r\n",
    "the given sequence is defined as follows:\r\n",
    "The moving average sequence has n-k+1 elements as shown below.\r\n",
    "The moving averages with k=4 of a ten-value sequence (n=10) is shown below\r\n",
    "i 1 2 3 4 5 6 7 8 9 10\r\n",
    "===== == == == == == == == == == ==\r\n",
    "Input 10 20 30 40 50 60 70 80 90 100 \r\n",
    "y1 25 = (10+20+30+40)/4\r\n",
    "y2 35 = (20+30+40+50)/4\r\n",
    "y3 45 = (30+40+50+60)/4\r\n",
    "y4 55 = (40+50+60+70)/4\r\n",
    "y5 65 = (50+60+70+80)/4\r\n",
    "y6 75 = (60+70+80+90)/4\r\n",
    "y7 85 = (70+80+90+100)/4\r\n",
    "Thus, the moving average sequence has n-k+1=10-4+1=7 values.Question: Write a function to find moving average in an array over a window:\r\n",
    " Test it over [3, 5, 7, 2, 8, 10, 11, 65, 72, 81, 99, 100, 150] and window of 3."
   ]
  },
  {
   "cell_type": "code",
   "execution_count": 52,
   "metadata": {},
   "outputs": [],
   "source": [
    "n=10\n",
    "Seq = [3, 5, 7, 2, 8, 10, 11, 65, 72, 81, 99, 100, 150]\n",
    "k=3"
   ]
  },
  {
   "cell_type": "code",
   "execution_count": 53,
   "metadata": {},
   "outputs": [],
   "source": [
    "def moving_average(arr,k):\n",
    "    n= len(arr)\n",
    "    for i in range(n-k+1):\n",
    "        ma_value = 0\n",
    "        for m in range(k):\n",
    "            ma_value = float(ma_value + arr[i+m])\n",
    "        ma_value = ma_value/k\n",
    "        print(\"y\",str(i+1),\"=\",str(ma_value))"
   ]
  },
  {
   "cell_type": "code",
   "execution_count": 54,
   "metadata": {},
   "outputs": [
    {
     "name": "stdout",
     "output_type": "stream",
     "text": [
      "y 1 = 5.0\n",
      "y 2 = 4.666666666666667\n",
      "y 3 = 5.666666666666667\n",
      "y 4 = 6.666666666666667\n",
      "y 5 = 9.666666666666666\n",
      "y 6 = 28.666666666666668\n",
      "y 7 = 49.333333333333336\n",
      "y 8 = 72.66666666666667\n",
      "y 9 = 84.0\n",
      "y 10 = 93.33333333333333\n",
      "y 11 = 116.33333333333333\n"
     ]
    }
   ],
   "source": [
    "moving_average(Seq,k)"
   ]
  }
 ],
 "metadata": {
  "interpreter": {
   "hash": "63fd5069d213b44bf678585dea6b12cceca9941eaf7f819626cde1f2670de90d"
  },
  "kernelspec": {
   "display_name": "Python 3.9.5 64-bit",
   "name": "python3"
  },
  "language_info": {
   "name": "python",
   "version": ""
  }
 },
 "nbformat": 4,
 "nbformat_minor": 4
}