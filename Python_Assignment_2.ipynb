{
  "nbformat": 4,
  "nbformat_minor": 0,
  "metadata": {
    "colab": {
      "name": "Python_Assignment_2.ipynb",
      "provenance": [],
      "collapsed_sections": []
    },
    "kernelspec": {
      "name": "python3",
      "display_name": "Python 3"
    }
  },
  "cells": [
    {
      "cell_type": "markdown",
      "metadata": {
        "id": "xqKj6fMaswkr"
      },
      "source": [
        "## Assignment 1 : \r\n",
        "Create the below pattern using nested for loop in Python.\r\n"
      ]
    },
    {
      "cell_type": "code",
      "metadata": {
        "colab": {
          "base_uri": "https://localhost:8080/"
        },
        "id": "Ax8alN0Yk5yI",
        "outputId": "320c3a55-9605-44cd-93e4-239885dedad3"
      },
      "source": [
        "def star_pattern(number_rows):\r\n",
        "  i=0\r\n",
        "  max_counter = False\r\n",
        "\r\n",
        "  for j in range(0, (2*number_rows)-1):\r\n",
        "    if (i==number_rows):\r\n",
        "      max_counter = True\r\n",
        "      i-=1\r\n",
        "    elif (max_counter==False):\r\n",
        "      i+=1\r\n",
        "    else:\r\n",
        "      i-=1\r\n",
        "    pattern = \"\"\r\n",
        "    for k in range(0, i):\r\n",
        "      pattern = pattern+\"*\"\r\n",
        "    print(pattern)\r\n",
        "\r\n",
        "star_pattern(5)"
      ],
      "execution_count": 19,
      "outputs": [
        {
          "output_type": "stream",
          "text": [
            "*\n",
            "**\n",
            "***\n",
            "****\n",
            "*****\n",
            "****\n",
            "***\n",
            "**\n",
            "*\n"
          ],
          "name": "stdout"
        }
      ]
    },
    {
      "cell_type": "markdown",
      "metadata": {
        "id": "PxtmP_1utJlh"
      },
      "source": [
        "## Assignment 2 :\r\n",
        "Write a Python program to reverse a word after accepting the input from the user."
      ]
    },
    {
      "cell_type": "code",
      "metadata": {
        "colab": {
          "base_uri": "https://localhost:8080/"
        },
        "id": "eyXo6ME3tE8f",
        "outputId": "7b7cc836-02f6-4de2-c59a-62ab6e0608c2"
      },
      "source": [
        "input_string = input(\"Input word : \")\r\n",
        "print(\"Output : \" + str(input_string)[::-1])\r\n"
      ],
      "execution_count": 20,
      "outputs": [
        {
          "output_type": "stream",
          "text": [
            "Input word : ineuron\n",
            "Output : norueni\n"
          ],
          "name": "stdout"
        }
      ]
    }
  ]
}