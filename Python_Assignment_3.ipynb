{
 "cells": [
  {
   "cell_type": "markdown",
   "id": "fdcd54a3",
   "metadata": {},
   "source": [
    "# 1.1 Write a Python Program to implement your own myreduce() function which works exactly like Python's built-in function reduce()"
   ]
  },
  {
   "cell_type": "code",
   "execution_count": 3,
   "id": "b43e9325",
   "metadata": {},
   "outputs": [
    {
     "name": "stdout",
     "output_type": "stream",
     "text": [
      "This is the final output :  6\n"
     ]
    }
   ],
   "source": [
    "def myreduce(function_fn, collection_object):\n",
    "    lst = list(collection_object)\n",
    "    output = lst[0]\n",
    "    max_count = len(lst)\n",
    "    ## print(\"Max count is : \", max_count)\n",
    "    idx = 0\n",
    "    for elem in lst:\n",
    "        if (idx+1) < max_count:\n",
    "            output = function_fn(lst[idx+1], output)\n",
    "            idx+=1\n",
    "        \n",
    "    return output\n",
    "\n",
    "print(\"This is the final output : \", myreduce(lambda a,b: a+b, [1,2,3]))"
   ]
  },
  {
   "cell_type": "markdown",
   "id": "5871dec1",
   "metadata": {},
   "source": [
    "# 1.2 Write a Python program to implement your own myfilter() function which works exactly like Python's built-in function filter()"
   ]
  },
  {
   "cell_type": "code",
   "execution_count": 4,
   "id": "594a4950",
   "metadata": {},
   "outputs": [
    {
     "name": "stdout",
     "output_type": "stream",
     "text": [
      "[1, 6]\n",
      "[1, True]\n"
     ]
    }
   ],
   "source": [
    "def myfilter(function_fn, collection_object):\n",
    "    lst = list(collection_object)\n",
    "    output = []\n",
    "    \n",
    "    for elem in lst:\n",
    "        if function_fn is None:\n",
    "            if isinstance(elem, (int)) is True and elem > 0:\n",
    "                output.append(elem)\n",
    "    return output\n",
    "            \n",
    "# Calling function  \n",
    "result = myfilter(None,(1,0,6)) # returns all non-zero values  \n",
    "result2 = myfilter(None,(1,0,False,True)) # returns all non-zero and True values  \n",
    "# Displaying result  \n",
    "result = list(result)  \n",
    "result2 = list(result2)  \n",
    "print(result)  \n",
    "print(result2)  "
   ]
  },
  {
   "cell_type": "markdown",
   "id": "6b4f5570",
   "metadata": {},
   "source": [
    "# 2. Implement List comprehensions to produce the following lists.\n",
    "Write List comprehensions to produce the following Lists"
   ]
  },
  {
   "cell_type": "markdown",
   "id": "c7a312b9",
   "metadata": {},
   "source": [
    "\n",
    "['A', 'C', 'A', 'D', 'G', 'I', ’L’, ‘ D’]\n",
    "['x', 'xx', 'xxx', 'xxxx', 'y', 'yy', 'yyy', 'yyyy', 'z', 'zz', 'zzz', 'zzzz']"
   ]
  },
  {
   "cell_type": "code",
   "execution_count": 5,
   "id": "38f8f018",
   "metadata": {},
   "outputs": [
    {
     "name": "stdout",
     "output_type": "stream",
     "text": [
      "['x', 'xx', 'xxx', 'xxxx', 'y', 'yy', 'yyy', 'yyyy', 'z', 'zz', 'zzz', 'zzzz']\n"
     ]
    }
   ],
   "source": [
    "\n",
    "lst_literal = [\"x\",\"y\",\"z\"]\n",
    "lst1 = [1,2,3,4]        \n",
    "\n",
    "print([x*y for x in lst_literal for y in lst1])\n",
    "\n"
   ]
  },
  {
   "cell_type": "markdown",
   "id": "ab59d515",
   "metadata": {},
   "source": [
    "['x', 'y', 'z', 'xx', 'yy', 'zz', 'xxx', 'yyy', 'zzz', 'xxxx', 'yyyy', 'zzzz']"
   ]
  },
  {
   "cell_type": "code",
   "execution_count": 6,
   "id": "6b12ae9e",
   "metadata": {},
   "outputs": [
    {
     "name": "stdout",
     "output_type": "stream",
     "text": [
      "['x', 'y', 'z', 'xx', 'yy', 'zz', 'xxx', 'yyy', 'zzz', 'xxxx', 'yyyy', 'zzzz']\n"
     ]
    }
   ],
   "source": [
    "\n",
    "lst_literal = [1,2,3,4] \n",
    "lst1 = [\"x\",\"y\",\"z\"]\n",
    "       \n",
    "print([x*y for x in lst_literal for y in lst1])"
   ]
  },
  {
   "cell_type": "markdown",
   "id": "a159face",
   "metadata": {},
   "source": [
    "[[2], [3], [4], [3], [4], [5], [4], [5], [6]] [[2, 3, 4, 5], [3, 4, 5, 6],\n",
    "[4, 5, 6, 7], [5, 6, 7, 8]]"
   ]
  },
  {
   "cell_type": "code",
   "execution_count": 7,
   "id": "de942c6e",
   "metadata": {},
   "outputs": [
    {
     "name": "stdout",
     "output_type": "stream",
     "text": [
      "[[2], [3], [4], [3], [4], [5], [4], [5], [6]] [[2, 3, 4, 5], [3, 4, 5, 6], [4, 5, 6, 7], [5, 6, 7, 8]]\n"
     ]
    }
   ],
   "source": [
    "lst_literal = [2,3,4] \n",
    "lst1 = [0,1,2]\n",
    "\n",
    "lst_literal_1 = [2,3,4,5] \n",
    "lst1_1 = [0,1,2,3]\n",
    "       \n",
    "print([[x+y] for x in lst_literal for y in lst1], [[x+y for x in lst_literal_1] for y in lst1_1])"
   ]
  },
  {
   "cell_type": "markdown",
   "id": "783c133b",
   "metadata": {},
   "source": [
    "[(1, 1), (2, 1), (3, 1), (1, 2), (2, 2), (3, 2), (1, 3), (2, 3), (3, 3)]"
   ]
  },
  {
   "cell_type": "code",
   "execution_count": 8,
   "id": "f498020e",
   "metadata": {},
   "outputs": [
    {
     "name": "stdout",
     "output_type": "stream",
     "text": [
      "[(1, 1), (2, 1), (3, 1), (1, 2), (2, 2), (3, 2), (1, 3), (2, 3), (3, 3)]\n"
     ]
    }
   ],
   "source": [
    "seq1 = [1,2,3]\n",
    "print([(y,x) for x in seq1 for y in seq1])"
   ]
  }
 ],
 "metadata": {
  "kernelspec": {
   "display_name": "Python 3",
   "language": "python",
   "name": "python3"
  },
  "language_info": {
   "codemirror_mode": {
    "name": "ipython",
    "version": 3
   },
   "file_extension": ".py",
   "mimetype": "text/x-python",
   "name": "python",
   "nbconvert_exporter": "python",
   "pygments_lexer": "ipython3",
   "version": "3.8.8"
  }
 },
 "nbformat": 4,
 "nbformat_minor": 5
}
